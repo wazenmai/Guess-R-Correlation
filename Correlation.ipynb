{
 "cells": [
  {
   "cell_type": "code",
   "execution_count": 2,
   "id": "002fb222-41c0-40e3-993f-556eae91b766",
   "metadata": {
    "tags": []
   },
   "outputs": [],
   "source": [
    "import os\n",
    "import pickle\n",
    "import numpy as np\n",
    "import pandas as pd\n",
    "import matplotlib.pyplot as plt\n",
    "import matplotlib.image as mpimg\n",
    "\n",
    "from PIL import Image\n",
    "\n",
    "# from tensorflow import keras\n",
    "# from tensorflow.keras.layers import Input, Dense, Dropout, Flatten, Conv2D, MaxPooling2D, BatchNormalization\n",
    "\n",
    "%matplotlib inline"
   ]
  },
  {
   "cell_type": "code",
   "execution_count": 2,
   "id": "90c17019-af87-4608-9d9a-20f422fd3766",
   "metadata": {
    "tags": []
   },
   "outputs": [
    {
     "name": "stdout",
     "output_type": "stream",
     "text": [
      "(150000, 2)\n"
     ]
    },
    {
     "data": {
      "text/html": [
       "<div>\n",
       "<style scoped>\n",
       "    .dataframe tbody tr th:only-of-type {\n",
       "        vertical-align: middle;\n",
       "    }\n",
       "\n",
       "    .dataframe tbody tr th {\n",
       "        vertical-align: top;\n",
       "    }\n",
       "\n",
       "    .dataframe thead th {\n",
       "        text-align: right;\n",
       "    }\n",
       "</style>\n",
       "<table border=\"1\" class=\"dataframe\">\n",
       "  <thead>\n",
       "    <tr style=\"text-align: right;\">\n",
       "      <th></th>\n",
       "      <th>id</th>\n",
       "      <th>corr</th>\n",
       "    </tr>\n",
       "  </thead>\n",
       "  <tbody>\n",
       "    <tr>\n",
       "      <th>0</th>\n",
       "      <td>arjskzyc</td>\n",
       "      <td>-0.457810</td>\n",
       "    </tr>\n",
       "    <tr>\n",
       "      <th>1</th>\n",
       "      <td>jrsnrkcp</td>\n",
       "      <td>-0.523113</td>\n",
       "    </tr>\n",
       "    <tr>\n",
       "      <th>2</th>\n",
       "      <td>hycqmekg</td>\n",
       "      <td>-0.179033</td>\n",
       "    </tr>\n",
       "    <tr>\n",
       "      <th>3</th>\n",
       "      <td>cerpyxxj</td>\n",
       "      <td>0.251509</td>\n",
       "    </tr>\n",
       "    <tr>\n",
       "      <th>4</th>\n",
       "      <td>cohtzuog</td>\n",
       "      <td>0.353992</td>\n",
       "    </tr>\n",
       "    <tr>\n",
       "      <th>5</th>\n",
       "      <td>cwtadyfn</td>\n",
       "      <td>0.836124</td>\n",
       "    </tr>\n",
       "    <tr>\n",
       "      <th>6</th>\n",
       "      <td>daujzamk</td>\n",
       "      <td>-0.314117</td>\n",
       "    </tr>\n",
       "    <tr>\n",
       "      <th>7</th>\n",
       "      <td>pnmvrfuu</td>\n",
       "      <td>-0.190036</td>\n",
       "    </tr>\n",
       "    <tr>\n",
       "      <th>8</th>\n",
       "      <td>glsmhkti</td>\n",
       "      <td>-0.007892</td>\n",
       "    </tr>\n",
       "    <tr>\n",
       "      <th>9</th>\n",
       "      <td>aiclljvq</td>\n",
       "      <td>0.512690</td>\n",
       "    </tr>\n",
       "  </tbody>\n",
       "</table>\n",
       "</div>"
      ],
      "text/plain": [
       "         id      corr\n",
       "0  arjskzyc -0.457810\n",
       "1  jrsnrkcp -0.523113\n",
       "2  hycqmekg -0.179033\n",
       "3  cerpyxxj  0.251509\n",
       "4  cohtzuog  0.353992\n",
       "5  cwtadyfn  0.836124\n",
       "6  daujzamk -0.314117\n",
       "7  pnmvrfuu -0.190036\n",
       "8  glsmhkti -0.007892\n",
       "9  aiclljvq  0.512690"
      ]
     },
     "execution_count": 2,
     "metadata": {},
     "output_type": "execute_result"
    }
   ],
   "source": [
    "path = \"/home/wazenmai/Warehouse/tmp/correlation_assignment/\"\n",
    "data = pd.read_csv(path + \"responses.csv\")\n",
    "print(data.shape)\n",
    "data.head(10)"
   ]
  },
  {
   "cell_type": "markdown",
   "id": "f66b5a8e-7dbe-4003-899d-f601e045d6fe",
   "metadata": {
    "tags": []
   },
   "source": [
    "### Analyzing Correlation Answer"
   ]
  },
  {
   "cell_type": "code",
   "execution_count": 2,
   "id": "35e796c5-390b-4110-98c9-fd12da1bc2a9",
   "metadata": {
    "tags": []
   },
   "outputs": [],
   "source": [
    "def analyze_corr(data):\n",
    "    positive_corr, p_list = 0, []\n",
    "    negative_corr, n_list = 0, []\n",
    "    zero_corr, z_list = 0, []\n",
    "    for i in range(data.shape[0]):\n",
    "        corr = data[\"corr\"][i]\n",
    "        if corr > 0:\n",
    "            positive_corr += 1\n",
    "            p_list.append(i)\n",
    "        elif corr < 0:\n",
    "            negative_corr += 1\n",
    "            n_list.append(i)\n",
    "        else:\n",
    "            zero_corr += 1\n",
    "            z_list.append(i)\n",
    "    print(f\"positive_corr: , {positive_corr}, {positive_corr / data.shape[0]}%\")\n",
    "    print(f\"negative_corr: , {negative_corr}, {negative_corr / data.shape[0]}%\")\n",
    "    print(f\"zero_corr: , {zero_corr}, {zero_corr / data.shape[0]}%\")\n",
    "\n",
    "# analyze_corr(data)"
   ]
  },
  {
   "cell_type": "markdown",
   "id": "789b23a2-3782-4bb3-abcc-a84b89839769",
   "metadata": {
    "tags": []
   },
   "source": [
    "### Training and Testing Set\n",
    "\n",
    "Testing set: 10% of data\n",
    "\n",
    "Cross Validation: 8:2 vs. 7:3"
   ]
  },
  {
   "cell_type": "code",
   "execution_count": 22,
   "id": "fb38a743-64bc-4a3f-a13d-642947e0c17f",
   "metadata": {
    "tags": []
   },
   "outputs": [],
   "source": [
    "total = data.shape[0]\n",
    "data = data.sample(frac=1).reset_index(drop=True) # shuffel data\n",
    "train_data = data.iloc[:int(total * 0.9), :]\n",
    "test_data = data.iloc[int(total * 0.9):, :]\n",
    "\n",
    "train_data.to_csv(path + \"train.csv\", index=False)\n",
    "test_data.to_csv(path + \"test.csv\", index=False)"
   ]
  },
  {
   "cell_type": "code",
   "execution_count": 23,
   "id": "c5b1f5cf-1171-40c2-8364-8a3abfe8eb73",
   "metadata": {
    "tags": []
   },
   "outputs": [
    {
     "name": "stdout",
     "output_type": "stream",
     "text": [
      "(135000, 2)\n",
      "positive_corr: , 68571, 0.5079333333333333%\n",
      "negative_corr: , 66429, 0.49206666666666665%\n",
      "zero_corr: , 0, 0.0%\n"
     ]
    },
    {
     "data": {
      "text/html": [
       "<div>\n",
       "<style scoped>\n",
       "    .dataframe tbody tr th:only-of-type {\n",
       "        vertical-align: middle;\n",
       "    }\n",
       "\n",
       "    .dataframe tbody tr th {\n",
       "        vertical-align: top;\n",
       "    }\n",
       "\n",
       "    .dataframe thead th {\n",
       "        text-align: right;\n",
       "    }\n",
       "</style>\n",
       "<table border=\"1\" class=\"dataframe\">\n",
       "  <thead>\n",
       "    <tr style=\"text-align: right;\">\n",
       "      <th></th>\n",
       "      <th>corr</th>\n",
       "    </tr>\n",
       "  </thead>\n",
       "  <tbody>\n",
       "    <tr>\n",
       "      <th>count</th>\n",
       "      <td>135000.000000</td>\n",
       "    </tr>\n",
       "    <tr>\n",
       "      <th>mean</th>\n",
       "      <td>0.010868</td>\n",
       "    </tr>\n",
       "    <tr>\n",
       "      <th>std</th>\n",
       "      <td>0.442224</td>\n",
       "    </tr>\n",
       "    <tr>\n",
       "      <th>min</th>\n",
       "      <td>-0.996075</td>\n",
       "    </tr>\n",
       "    <tr>\n",
       "      <th>25%</th>\n",
       "      <td>-0.344922</td>\n",
       "    </tr>\n",
       "    <tr>\n",
       "      <th>50%</th>\n",
       "      <td>0.011140</td>\n",
       "    </tr>\n",
       "    <tr>\n",
       "      <th>75%</th>\n",
       "      <td>0.368631</td>\n",
       "    </tr>\n",
       "    <tr>\n",
       "      <th>max</th>\n",
       "      <td>0.996901</td>\n",
       "    </tr>\n",
       "  </tbody>\n",
       "</table>\n",
       "</div>"
      ],
      "text/plain": [
       "                corr\n",
       "count  135000.000000\n",
       "mean        0.010868\n",
       "std         0.442224\n",
       "min        -0.996075\n",
       "25%        -0.344922\n",
       "50%         0.011140\n",
       "75%         0.368631\n",
       "max         0.996901"
      ]
     },
     "execution_count": 23,
     "metadata": {},
     "output_type": "execute_result"
    }
   ],
   "source": [
    "train_data = pd.read_csv(path + \"train.csv\")\n",
    "print(train_data.shape)\n",
    "analyze_corr(train_data)\n",
    "train_data.describe()"
   ]
  },
  {
   "cell_type": "code",
   "execution_count": 24,
   "id": "db992ab7-9475-4850-b9bb-155234105ede",
   "metadata": {
    "tags": []
   },
   "outputs": [
    {
     "name": "stdout",
     "output_type": "stream",
     "text": [
      "(15000, 2)\n",
      "positive_corr: , 7650, 0.51%\n",
      "negative_corr: , 7350, 0.49%\n",
      "zero_corr: , 0, 0.0%\n"
     ]
    },
    {
     "data": {
      "text/html": [
       "<div>\n",
       "<style scoped>\n",
       "    .dataframe tbody tr th:only-of-type {\n",
       "        vertical-align: middle;\n",
       "    }\n",
       "\n",
       "    .dataframe tbody tr th {\n",
       "        vertical-align: top;\n",
       "    }\n",
       "\n",
       "    .dataframe thead th {\n",
       "        text-align: right;\n",
       "    }\n",
       "</style>\n",
       "<table border=\"1\" class=\"dataframe\">\n",
       "  <thead>\n",
       "    <tr style=\"text-align: right;\">\n",
       "      <th></th>\n",
       "      <th>corr</th>\n",
       "    </tr>\n",
       "  </thead>\n",
       "  <tbody>\n",
       "    <tr>\n",
       "      <th>count</th>\n",
       "      <td>15000.000000</td>\n",
       "    </tr>\n",
       "    <tr>\n",
       "      <th>mean</th>\n",
       "      <td>0.010401</td>\n",
       "    </tr>\n",
       "    <tr>\n",
       "      <th>std</th>\n",
       "      <td>0.444212</td>\n",
       "    </tr>\n",
       "    <tr>\n",
       "      <th>min</th>\n",
       "      <td>-0.984647</td>\n",
       "    </tr>\n",
       "    <tr>\n",
       "      <th>25%</th>\n",
       "      <td>-0.349237</td>\n",
       "    </tr>\n",
       "    <tr>\n",
       "      <th>50%</th>\n",
       "      <td>0.013488</td>\n",
       "    </tr>\n",
       "    <tr>\n",
       "      <th>75%</th>\n",
       "      <td>0.368445</td>\n",
       "    </tr>\n",
       "    <tr>\n",
       "      <th>max</th>\n",
       "      <td>0.995978</td>\n",
       "    </tr>\n",
       "  </tbody>\n",
       "</table>\n",
       "</div>"
      ],
      "text/plain": [
       "               corr\n",
       "count  15000.000000\n",
       "mean       0.010401\n",
       "std        0.444212\n",
       "min       -0.984647\n",
       "25%       -0.349237\n",
       "50%        0.013488\n",
       "75%        0.368445\n",
       "max        0.995978"
      ]
     },
     "execution_count": 24,
     "metadata": {},
     "output_type": "execute_result"
    }
   ],
   "source": [
    "test_data = pd.read_csv(path + \"test.csv\")\n",
    "print(test_data.shape)\n",
    "analyze_corr(test_data)\n",
    "test_data.describe()"
   ]
  },
  {
   "cell_type": "code",
   "execution_count": 16,
   "id": "76c753ef-4cfa-457e-9fa5-2192191f72ab",
   "metadata": {
    "tags": []
   },
   "outputs": [
    {
     "data": {
      "image/png": "[encoded data removed]",
      "text/plain": [
       "<Figure size 640x480 with 1 Axes>"
      ]
     },
     "metadata": {},
     "output_type": "display_data"
    }
   ],
   "source": [
    "img = mpimg.imread(div + \"cwtadyfn.png\")\n",
    "imgplot = plt.imshow(img)\n",
    "plt.show()"
   ]
  },
  {
   "cell_type": "markdown",
   "id": "1ce494a4-c601-4761-87ee-6131a97803f2",
   "metadata": {},
   "source": [
    "# Process Image with cv2"
   ]
  },
  {
   "cell_type": "code",
   "execution_count": 5,
   "id": "65e4e09c-92ff-4708-8803-cfec4bfe1e0e",
   "metadata": {
    "tags": []
   },
   "outputs": [],
   "source": [
    "import os\n",
    "import cv2\n",
    "import pickle\n",
    "import numpy as np\n",
    "import pandas as pd\n",
    "\n",
    "import torch\n",
    "import torch.nn as nn\n",
    "import torch.optim as optim\n",
    "import torch.nn.functional as F\n",
    "from torch.utils.data import TensorDataset, DataLoader\n",
    "\n",
    "PATH = \"/home/wazenmai/Warehouse/tmp/correlation_assignment/\"\n"
   ]
  },
  {
   "cell_type": "code",
   "execution_count": 95,
   "id": "3983b3a1-4c26-432a-a15d-4b4dbccb27a6",
   "metadata": {
    "tags": []
   },
   "outputs": [],
   "source": [
    "def get_data(data, data_type):\n",
    "    if data_type == \"csv\":\n",
    "        df = pd.read_csv(PATH + data)\n",
    "    else:\n",
    "        df = data\n",
    "    print(df.shape)\n",
    "    # analyze_corr(df)\n",
    "    names = df[\"id\"].values.tolist()\n",
    "    labels = df[\"corr\"].values.tolist()\n",
    "    labels = np.expand_dims(np.array(labels), axis=1)\n",
    "    data = []\n",
    "    for id, name in enumerate(names):\n",
    "        img = cv2.imread(os.path.join(PATH, \"images\", name + \".png\"), cv2.IMREAD_GRAYSCALE)\n",
    "        img = np.expand_dims(img, axis=0)\n",
    "        data.append(img)\n",
    "        if id % 5000 == 0:\n",
    "            print(id)\n",
    "    data = np.stack(data)\n",
    "    return data, labels\n",
    "\n",
    "def data2loader(data, label, batch_size, shuffle):\n",
    "    tensor_x = torch.Tensor(data) # transform to torch tensor\n",
    "    tensor_y = torch.Tensor(label)\n",
    "\n",
    "    my_dataset = TensorDataset(tensor_x,tensor_y)\n",
    "    my_dataloader = DataLoader(my_dataset, batch_size=batch_size, shuffle=shuffle)\n",
    "    return my_dataloader"
   ]
  },
  {
   "cell_type": "code",
   "execution_count": 97,
   "id": "4c6578b5-97d8-4533-9a0f-d7b16d845c72",
   "metadata": {
    "tags": []
   },
   "outputs": [
    {
     "name": "stdout",
     "output_type": "stream",
     "text": [
      "(27000, 2)\n",
      "0\n",
      "5000\n",
      "10000\n",
      "15000\n",
      "20000\n",
      "25000\n",
      "(108000, 2)\n",
      "0\n",
      "5000\n",
      "10000\n",
      "15000\n",
      "20000\n",
      "25000\n",
      "30000\n",
      "35000\n",
      "40000\n",
      "45000\n",
      "50000\n",
      "55000\n",
      "60000\n",
      "65000\n",
      "70000\n",
      "75000\n",
      "80000\n",
      "85000\n",
      "90000\n",
      "95000\n",
      "100000\n",
      "105000\n"
     ]
    }
   ],
   "source": [
    "def split_train_and_valid(csv_name, train_ratio):\n",
    "    df = pd.read_csv(PATH + csv_name)\n",
    "    total = df.shape[0]\n",
    "    df = df.sample(frac=1).reset_index(drop=True) # shuffel data\n",
    "\n",
    "    train_df = df.iloc[:int(total * train_ratio), :]\n",
    "    valid_df = df.iloc[int(total * train_ratio):, :]\n",
    "    \n",
    "    valid_data, valid_label = get_data(valid_df, \"dataframe\")\n",
    "    train_data, train_label = get_data(train_df, \"dataframe\")\n",
    "    return train_data, train_label, valid_data, valid_label\n",
    "\n",
    "train_data, train_label, valid_data, valid_label = split_train_and_valid(\"train.csv\", 0.8)\n",
    "train_dataloader = data2loader(train_data, train_label, batch_size=32, shuffle=True)\n",
    "valid_dataloader = data2loader(valid_data, valid_label, batch_size=32, shuffle=False)"
   ]
  },
  {
   "cell_type": "code",
   "execution_count": 61,
   "id": "9a787104-fee3-4f9c-9a4b-c759b3061377",
   "metadata": {
    "tags": []
   },
   "outputs": [
    {
     "name": "stdout",
     "output_type": "stream",
     "text": [
      "(15000, 2)\n",
      "positive_corr: , 7650, 0.51%\n",
      "negative_corr: , 7350, 0.49%\n",
      "zero_corr: , 0, 0.0%\n",
      "0\n",
      "5000\n",
      "10000\n",
      "(15000, 1, 150, 150) (15000, 1)\n"
     ]
    }
   ],
   "source": [
    "data, label = get_data(\"test.csv\", \"csv\")\n",
    "print(data.shape, label.shape)\n",
    "dataloader = data2loader(data, label, batch_size=16, shuffle=True)"
   ]
  },
  {
   "cell_type": "code",
   "execution_count": 22,
   "id": "7fdbdfff-bc12-484f-bdd5-e84b2ca6011c",
   "metadata": {
    "tags": []
   },
   "outputs": [],
   "source": [
    "class ResidualBlock(nn.Module):\n",
    "    def __init__(self, in_channels, out_channels, stride = 1, downsample = None):\n",
    "        super(ResidualBlock, self).__init__()\n",
    "        self.conv1 = nn.Sequential(\n",
    "                        nn.Conv2d(in_channels, out_channels, kernel_size = 3, stride = stride, padding = 1),\n",
    "                        nn.BatchNorm2d(out_channels),\n",
    "                        nn.ReLU())\n",
    "        self.conv2 = nn.Sequential(\n",
    "                        nn.Conv2d(out_channels, out_channels, kernel_size = 3, stride = 1, padding = 1),\n",
    "                        nn.BatchNorm2d(out_channels))\n",
    "        self.downsample = downsample\n",
    "        self.relu = nn.ReLU()\n",
    "        self.out_channels = out_channels\n",
    "        \n",
    "    def forward(self, x):\n",
    "        residual = x\n",
    "        out = self.conv1(x)\n",
    "        out = self.conv2(out)\n",
    "        if self.downsample:\n",
    "            residual = self.downsample(x)\n",
    "        out += residual\n",
    "        out = self.relu(out)\n",
    "        return out"
   ]
  },
  {
   "cell_type": "code",
   "execution_count": 50,
   "id": "e666125e-e82d-4d11-8b57-fff782136a1d",
   "metadata": {
    "tags": []
   },
   "outputs": [],
   "source": [
    "class ResNet(nn.Module):\n",
    "    def __init__(self, block, layers, num_classes = 10):\n",
    "        super(ResNet, self).__init__()\n",
    "        self.inplanes = 32\n",
    "        self.conv1 = nn.Sequential(\n",
    "                        nn.Conv2d(1, 32, kernel_size = 7, stride = 2, padding = 3),\n",
    "                        nn.BatchNorm2d(32),\n",
    "                        nn.ReLU())\n",
    "        self.maxpool = nn.MaxPool2d(kernel_size = 3, stride = 2, padding = 1)\n",
    "        self.layer0 = self._make_layer(block, 32, layers[0], stride = 1)\n",
    "        self.layer1 = self._make_layer(block, 64, layers[1], stride = 2)\n",
    "        self.layer2 = self._make_layer(block, 128, layers[2], stride = 2)\n",
    "        # self.layer3 = self._make_layer(block, 512, layers[3], stride = 2)\n",
    "        self.avgpool = nn.AvgPool2d(10, stride=1)\n",
    "        self.fc = nn.Linear(128, num_classes)\n",
    "        \n",
    "    def _make_layer(self, block, planes, blocks, stride=1):\n",
    "        downsample = None\n",
    "        if stride != 1 or self.inplanes != planes:\n",
    "            \n",
    "            downsample = nn.Sequential(\n",
    "                nn.Conv2d(self.inplanes, planes, kernel_size=1, stride=stride),\n",
    "                nn.BatchNorm2d(planes),\n",
    "            )\n",
    "        layers = []\n",
    "        layers.append(block(self.inplanes, planes, stride, downsample))\n",
    "        self.inplanes = planes\n",
    "        for i in range(1, blocks):\n",
    "            layers.append(block(self.inplanes, planes))\n",
    "\n",
    "        return nn.Sequential(*layers)\n",
    "    \n",
    "    \n",
    "    def forward(self, x):\n",
    "        # print(\"stage 1: \", x.shape)\n",
    "        x = self.conv1(x)\n",
    "        x = self.maxpool(x)\n",
    "        # print(\"stage 2: \", x.shape)\n",
    "        x = self.layer0(x)\n",
    "        # print(\"stage 3: \", x.shape)\n",
    "        x = self.layer1(x)\n",
    "        # print(\"stage 4: \", x.shape)\n",
    "        x = self.layer2(x)\n",
    "        # x = self.layer3(x)\n",
    "        x = self.avgpool(x)\n",
    "        # print(\"stage 5: \", x.shape)\n",
    "        x = x.view(x.size(0), -1)\n",
    "        # print(\"stage 6: \", x.shape)\n",
    "        x = torch.tanh(self.fc(x))\n",
    "\n",
    "        return x"
   ]
  },
  {
   "cell_type": "code",
   "execution_count": 116,
   "id": "10a772c4-b001-488a-8624-0895aeef0330",
   "metadata": {
    "tags": []
   },
   "outputs": [],
   "source": [
    "class Net(nn.Module):\n",
    "    def __init__(self):\n",
    "        super().__init__()\n",
    "        self.conv1 = nn.Conv2d(1, 12, 3)\n",
    "        self.conv2 = nn.Conv2d(12, 24, 3)\n",
    "        self.conv3 = nn.Conv2d(24, 48, 3)\n",
    "        \n",
    "        self.dropout = nn.Dropout(0.2)\n",
    "        self.pool = nn.AvgPool2d(2)\n",
    "        \n",
    "        self.fc1 = nn.Linear(48 * 17 * 17, 128)\n",
    "        self.fc2 = nn.Linear(128, 1)\n",
    "    \n",
    "    def forward(self, x):\n",
    "        # print(\"stage 1: \", x.shape)\n",
    "        x = self.pool(F.relu(self.conv1(x)))\n",
    "        \n",
    "        # print(\"stage 2: \", x.shape)\n",
    "        x = self.pool(F.relu(self.conv2(x)))\n",
    "        \n",
    "        # print(\"stage 3: \", x.shape)\n",
    "        x = self.pool(F.relu(self.conv3(x)))\n",
    "        \n",
    "        # print(\"stage 4: \", x.shape)\n",
    "        x = torch.flatten(x, 1)\n",
    "        x = F.relu(self.fc1(x))\n",
    "        x = self.fc2(x)\n",
    "        \n",
    "        return x"
   ]
  },
  {
   "cell_type": "code",
   "execution_count": 117,
   "id": "65b26690-7354-43f3-9d16-f43b6772e7c0",
   "metadata": {
    "tags": []
   },
   "outputs": [
    {
     "name": "stdout",
     "output_type": "stream",
     "text": [
      "Parameters: 1.789025 M\n",
      "Start training...\n",
      "outputs: tensor([-1.2854, -1.0964], grad_fn=<SqueezeBackward1>), labels: tensor([0.3442, 0.0848])\n",
      "[1,     1] loss: 0.0034\n",
      "evaluation loss: 7923.2171\n",
      "outputs: tensor([0.2008, 0.6145], grad_fn=<SqueezeBackward1>), labels: tensor([0.1905, 0.6279])\n",
      "[1,   501] loss: 16.7821\n",
      "evaluation loss: 0.0034\n",
      "outputs: tensor([ 0.2995, -0.1222], grad_fn=<SqueezeBackward1>), labels: tensor([ 0.2467, -0.0909])\n",
      "[1,  1001] loss: 0.0023\n",
      "evaluation loss: 0.0018\n",
      "outputs: tensor([-0.5642,  0.4097], grad_fn=<SqueezeBackward1>), labels: tensor([-0.5172,  0.3960])\n",
      "[1,  1501] loss: 0.0017\n",
      "evaluation loss: 0.0013\n",
      "outputs: tensor([-0.0726,  0.0505], grad_fn=<SqueezeBackward1>), labels: tensor([-0.0701,  0.0433])\n",
      "[1,  2001] loss: 0.0015\n",
      "evaluation loss: 0.0012\n",
      "outputs: tensor([-0.1353,  0.6253], grad_fn=<SqueezeBackward1>), labels: tensor([-0.1360,  0.5556])\n",
      "[1,  2501] loss: 0.0013\n",
      "evaluation loss: 0.0010\n",
      "outputs: tensor([0.4310, 0.4640], grad_fn=<SqueezeBackward1>), labels: tensor([0.4417, 0.4368])\n",
      "[1,  3001] loss: 0.0015\n",
      "evaluation loss: 0.0012\n",
      "outputs: tensor([0.4576, 0.0107], grad_fn=<SqueezeBackward1>), labels: tensor([0.4604, 0.0133])\n",
      "[2,     1] loss: 0.0000\n",
      "evaluation loss: 0.0011\n",
      "outputs: tensor([-0.3677, -0.2331], grad_fn=<SqueezeBackward1>), labels: tensor([-0.3604, -0.2162])\n",
      "[2,   501] loss: 0.0011\n",
      "evaluation loss: 0.0011\n",
      "outputs: tensor([-0.0820, -0.2908], grad_fn=<SqueezeBackward1>), labels: tensor([-0.1342, -0.2674])\n",
      "[2,  1001] loss: 0.0011\n",
      "evaluation loss: 0.0013\n",
      "outputs: tensor([0.1770, 0.1590], grad_fn=<SqueezeBackward1>), labels: tensor([0.2133, 0.1469])\n",
      "[2,  1501] loss: 0.0010\n",
      "evaluation loss: 0.0009\n",
      "outputs: tensor([0.4042, 0.2472], grad_fn=<SqueezeBackward1>), labels: tensor([0.4340, 0.2616])\n",
      "[2,  2001] loss: 0.0012\n",
      "evaluation loss: 0.0009\n",
      "outputs: tensor([0.1586, 0.3988], grad_fn=<SqueezeBackward1>), labels: tensor([0.1571, 0.4268])\n",
      "[2,  2501] loss: 0.0012\n",
      "evaluation loss: 0.0009\n",
      "outputs: tensor([-0.0546, -0.8978], grad_fn=<SqueezeBackward1>), labels: tensor([-0.0723, -0.9498])\n",
      "[2,  3001] loss: 0.0009\n",
      "evaluation loss: 0.0010\n",
      "outputs: tensor([-0.5670,  0.5941], grad_fn=<SqueezeBackward1>), labels: tensor([-0.5775,  0.5537])\n",
      "[3,     1] loss: 0.0000\n",
      "evaluation loss: 0.0163\n",
      "outputs: tensor([-0.5456,  0.4507], grad_fn=<SqueezeBackward1>), labels: tensor([-0.6072,  0.3071])\n",
      "[3,   501] loss: 0.0109\n",
      "evaluation loss: 0.0069\n",
      "outputs: tensor([ 0.5509, -0.4821], grad_fn=<SqueezeBackward1>), labels: tensor([ 0.5341, -0.5179])\n",
      "[3,  1001] loss: 0.0049\n",
      "evaluation loss: 0.0033\n",
      "outputs: tensor([-0.0079,  0.1079], grad_fn=<SqueezeBackward1>), labels: tensor([-0.0330,  0.1433])\n",
      "[3,  1501] loss: 0.0028\n",
      "evaluation loss: 0.0023\n",
      "outputs: tensor([ 0.8930, -0.4064], grad_fn=<SqueezeBackward1>), labels: tensor([ 0.9083, -0.3784])\n",
      "[3,  2001] loss: 0.0019\n",
      "evaluation loss: 0.0016\n",
      "outputs: tensor([ 0.1710, -0.5792], grad_fn=<SqueezeBackward1>), labels: tensor([ 0.1886, -0.5559])\n",
      "[3,  2501] loss: 0.0016\n",
      "evaluation loss: 0.0012\n",
      "outputs: tensor([ 0.1475, -0.3577], grad_fn=<SqueezeBackward1>), labels: tensor([ 0.1154, -0.3797])\n",
      "[3,  3001] loss: 0.0014\n",
      "evaluation loss: 0.0014\n",
      "outputs: tensor([-0.4954,  0.2644], grad_fn=<SqueezeBackward1>), labels: tensor([-0.5611,  0.2728])\n",
      "[4,     1] loss: 0.0000\n",
      "evaluation loss: 0.0014\n",
      "outputs: tensor([-0.0140, -0.3181], grad_fn=<SqueezeBackward1>), labels: tensor([-0.0346, -0.3431])\n",
      "[4,   501] loss: 0.0011\n",
      "evaluation loss: 0.0012\n",
      "outputs: tensor([0.2252, 0.5407], grad_fn=<SqueezeBackward1>), labels: tensor([0.2367, 0.6040])\n",
      "[4,  1001] loss: 0.0013\n",
      "evaluation loss: 0.0014\n",
      "outputs: tensor([-0.2250, -0.4682], grad_fn=<SqueezeBackward1>), labels: tensor([-0.2160, -0.4634])\n",
      "[4,  1501] loss: 0.0011\n",
      "evaluation loss: 0.0012\n",
      "outputs: tensor([-0.4966, -0.2251], grad_fn=<SqueezeBackward1>), labels: tensor([-0.5763, -0.2281])\n",
      "[4,  2001] loss: 0.0012\n",
      "evaluation loss: 0.0009\n",
      "outputs: tensor([0.5929, 0.1044], grad_fn=<SqueezeBackward1>), labels: tensor([0.5807, 0.1030])\n",
      "[4,  2501] loss: 0.0010\n",
      "evaluation loss: 0.0009\n",
      "outputs: tensor([ 0.2473, -0.7628], grad_fn=<SqueezeBackward1>), labels: tensor([ 0.2471, -0.7348])\n",
      "[4,  3001] loss: 0.0011\n",
      "evaluation loss: 0.0013\n",
      "outputs: tensor([-0.3700, -0.5635], grad_fn=<SqueezeBackward1>), labels: tensor([-0.3680, -0.5851])\n",
      "[5,     1] loss: 0.0000\n",
      "evaluation loss: 0.0009\n",
      "outputs: tensor([-0.1501,  0.7160], grad_fn=<SqueezeBackward1>), labels: tensor([-0.1927,  0.6818])\n",
      "[5,   501] loss: 0.0012\n",
      "evaluation loss: 0.0008\n",
      "outputs: tensor([-0.0216,  0.5773], grad_fn=<SqueezeBackward1>), labels: tensor([-0.0430,  0.6423])\n",
      "[5,  1001] loss: 0.0015\n",
      "evaluation loss: 0.0010\n",
      "outputs: tensor([ 0.4898, -0.1270], grad_fn=<SqueezeBackward1>), labels: tensor([ 0.4487, -0.1625])\n",
      "[5,  1501] loss: 0.0009\n",
      "evaluation loss: 0.0010\n",
      "outputs: tensor([0.5491, 0.1160], grad_fn=<SqueezeBackward1>), labels: tensor([0.5683, 0.1243])\n",
      "[5,  2001] loss: 0.0009\n",
      "evaluation loss: 0.0009\n",
      "outputs: tensor([0.3328, 0.1551], grad_fn=<SqueezeBackward1>), labels: tensor([0.3185, 0.1422])\n",
      "[5,  2501] loss: 0.0008\n",
      "evaluation loss: 0.0007\n",
      "outputs: tensor([-0.6657, -0.3682], grad_fn=<SqueezeBackward1>), labels: tensor([-0.7024, -0.3856])\n",
      "[5,  3001] loss: 0.0013\n",
      "evaluation loss: 0.0008\n"
     ]
    }
   ],
   "source": [
    "# Training setting\n",
    "def custom_loss(y_pred, y_true):\n",
    "    diff = torch.abs(y_true - y_pred) / torch.clamp(torch.min(torch.abs(y_true), torch.abs(y_pred)), min=1e-6)\n",
    "    # loss = 100.0 * torch.mean(diff)\n",
    "    loss = torch.mean(diff)\n",
    "    # print(loss)\n",
    "    # diff = torch.abs(y_true - y_pred)\n",
    "    # loss = torch.mean(diff)\n",
    "    # loss = torch.mean(diff ** 2)\n",
    "    return loss\n",
    "\n",
    "def evaluate(model):\n",
    "    eval_loss = 0.0\n",
    "    for data in valid_dataloader:\n",
    "        inputs, labels = data\n",
    "        outputs = model(inputs)\n",
    "        loss = criterion(outputs, labels)\n",
    "        eval_loss += loss.item()\n",
    "    print(f\"evaluation loss: {eval_loss / len(valid_dataloader):.4f}\") \n",
    "    return eval_loss / len(valid_dataloader)\n",
    "\n",
    "    \n",
    "# model = ResNet(ResidualBlock, [2, 2, 2, 3], num_classes=1)\n",
    "model = Net()\n",
    "criterion = nn.MSELoss()\n",
    "# optimizer = optim.SGD(model.parameters(), lr=0.0001)\n",
    "optimizer = optim.Adam(model.parameters())\n",
    "num_epochs = 5\n",
    "\n",
    "sum_p = 0\n",
    "for name, p in model.named_parameters():\n",
    "    if p.requires_grad:\n",
    "        sum_p += p.numel()\n",
    "print(f\"Parameters: {sum_p / 1000000} M\")\n",
    "\n",
    "# Train the model\n",
    "print(\"Start training...\")\n",
    "train_losses = []\n",
    "eval_losses = []\n",
    "\n",
    "for epoch in range(num_epochs):\n",
    "    running_loss = 0.0\n",
    "    for i, data in enumerate(train_dataloader):\n",
    "        inputs, labels = data\n",
    "        \n",
    "        optimizer.zero_grad()\n",
    "        \n",
    "        outputs = model(inputs)\n",
    "        loss = criterion(outputs, labels)\n",
    "        loss.backward()\n",
    "        optimizer.step()\n",
    "        \n",
    "        train_losses.append(loss.item())\n",
    "        running_loss += loss.item()\n",
    "        \n",
    "        if i % 500 == 0:    # print every 500 mini-batches\n",
    "            print(f\"outputs: {torch.squeeze(outputs[:2], 1)}, labels: {torch.squeeze(labels[:2], 1)}\")\n",
    "            print(f'[{epoch + 1}, {i + 1:5d}] loss: {running_loss / 500:.4f}')\n",
    "            running_loss = 0.0\n",
    "            \n",
    "            # go evaluation\n",
    "            eval_loss = evaluate(model)\n",
    "            eval_losses.append(eval_loss)\n",
    "            "
   ]
  },
  {
   "cell_type": "code",
   "execution_count": 124,
   "id": "a1f6034d-ee53-4ed6-a00e-30c2f2afe40d",
   "metadata": {
    "tags": []
   },
   "outputs": [
    {
     "name": "stdout",
     "output_type": "stream",
     "text": [
      "[2.4880805968680866, 0.026313139167752256, 0.0038768429325341624, 0.0011149894205370436, 0.001045806504445392]\n"
     ]
    },
    {
     "data": {
      "image/png": "[encoded data removed]",
      "text/plain": [
       "<Figure size 640x480 with 1 Axes>"
      ]
     },
     "metadata": {},
     "output_type": "display_data"
    }
   ],
   "source": [
    "from statistics import mean \n",
    "import matplotlib.pyplot as plt\n",
    "\n",
    "epoch_average_loss = []\n",
    "sample_per_epoch = len(train_losses) // num_epochs\n",
    "for i in range(0, len(train_losses), sample_per_epoch):\n",
    "    epoch_average_loss.append(mean(train_losses[i:i+sample_per_epoch]))\n",
    "print(epoch_average_loss)\n",
    "\n",
    "plt.plot(epoch_average_loss)\n",
    "plt.title(\"Training loss\")\n",
    "plt.grid()\n",
    "plt.show()"
   ]
  },
  {
   "cell_type": "code",
   "execution_count": 126,
   "id": "7bd0d2eb-18e7-44ad-ab6a-eacc178ab125",
   "metadata": {
    "tags": []
   },
   "outputs": [
    {
     "name": "stdout",
     "output_type": "stream",
     "text": [
      "[1131.8895638164583, 0.001025333633671315, 0.004722153018071466, 0.001190694908548973, 0.0008880899096240501]\n"
     ]
    },
    {
     "data": {
      "image/png": "[encoded data removed]",
      "text/plain": [
       "<Figure size 640x480 with 1 Axes>"
      ]
     },
     "metadata": {},
     "output_type": "display_data"
    }
   ],
   "source": [
    "epoch_average_loss = []\n",
    "sample_per_epoch = 7\n",
    "for i in range(0, len(eval_losses), sample_per_epoch):\n",
    "    epoch_average_loss.append(mean(eval_losses[i:i+sample_per_epoch]))\n",
    "print(epoch_average_loss)\n",
    "\n",
    "plt.plot(epoch_average_loss)\n",
    "plt.title(\"Evaluation loss\")\n",
    "plt.grid()\n",
    "plt.show()"
   ]
  },
  {
   "cell_type": "markdown",
   "id": "222b955b-3a06-449e-934b-d759b08d9878",
   "metadata": {},
   "source": [
    "### Evaluate model on testing set"
   ]
  },
  {
   "cell_type": "code",
   "execution_count": 119,
   "id": "f2655eb6-d9a5-40d0-a63b-26862586d025",
   "metadata": {
    "tags": []
   },
   "outputs": [
    {
     "name": "stdout",
     "output_type": "stream",
     "text": [
      "(15000,) [-0.25611228 -0.37173232 -0.5072142   0.6128637  -0.29309013  0.25882882\n",
      " -0.02511419  0.481939    0.01907394  0.2653743 ]\n",
      "(15000,) [-0.2918652  -0.3600063  -0.47188216  0.6127415  -0.30603933  0.27330235\n",
      "  0.01359741  0.49306127  0.05076659  0.25466463]\n"
     ]
    }
   ],
   "source": [
    "predictions = []\n",
    "ground_truth = []\n",
    "with torch.no_grad():\n",
    "    for data in dataloader:\n",
    "        sample_data, sample_label = data\n",
    "        ground_truth.extend(np.squeeze(sample_label, 1))\n",
    "        outputs = model(sample_data)\n",
    "        predictions.extend(np.squeeze(outputs.detach().numpy(), 1))\n",
    "predictions = np.array(predictions)\n",
    "ground_truth = np.array(ground_truth)\n",
    "print(predictions.shape, predictions[:10])\n",
    "print(ground_truth.shape, ground_truth[:10])"
   ]
  },
  {
   "cell_type": "code",
   "execution_count": 120,
   "id": "a39e5f16-c14d-421b-b39f-84da8c4b1d0d",
   "metadata": {
    "tags": []
   },
   "outputs": [
    {
     "data": {
      "text/html": [
       "<div>\n",
       "<style scoped>\n",
       "    .dataframe tbody tr th:only-of-type {\n",
       "        vertical-align: middle;\n",
       "    }\n",
       "\n",
       "    .dataframe tbody tr th {\n",
       "        vertical-align: top;\n",
       "    }\n",
       "\n",
       "    .dataframe thead th {\n",
       "        text-align: right;\n",
       "    }\n",
       "</style>\n",
       "<table border=\"1\" class=\"dataframe\">\n",
       "  <thead>\n",
       "    <tr style=\"text-align: right;\">\n",
       "      <th></th>\n",
       "      <th>y_pred</th>\n",
       "      <th>y_true</th>\n",
       "    </tr>\n",
       "  </thead>\n",
       "  <tbody>\n",
       "    <tr>\n",
       "      <th>0</th>\n",
       "      <td>-0.256112</td>\n",
       "      <td>-0.291865</td>\n",
       "    </tr>\n",
       "    <tr>\n",
       "      <th>1</th>\n",
       "      <td>-0.371732</td>\n",
       "      <td>-0.360006</td>\n",
       "    </tr>\n",
       "    <tr>\n",
       "      <th>2</th>\n",
       "      <td>-0.507214</td>\n",
       "      <td>-0.471882</td>\n",
       "    </tr>\n",
       "    <tr>\n",
       "      <th>3</th>\n",
       "      <td>0.612864</td>\n",
       "      <td>0.612741</td>\n",
       "    </tr>\n",
       "    <tr>\n",
       "      <th>4</th>\n",
       "      <td>-0.293090</td>\n",
       "      <td>-0.306039</td>\n",
       "    </tr>\n",
       "    <tr>\n",
       "      <th>...</th>\n",
       "      <td>...</td>\n",
       "      <td>...</td>\n",
       "    </tr>\n",
       "    <tr>\n",
       "      <th>14995</th>\n",
       "      <td>-0.294293</td>\n",
       "      <td>-0.288643</td>\n",
       "    </tr>\n",
       "    <tr>\n",
       "      <th>14996</th>\n",
       "      <td>-0.669942</td>\n",
       "      <td>-0.669617</td>\n",
       "    </tr>\n",
       "    <tr>\n",
       "      <th>14997</th>\n",
       "      <td>0.299834</td>\n",
       "      <td>0.320755</td>\n",
       "    </tr>\n",
       "    <tr>\n",
       "      <th>14998</th>\n",
       "      <td>-0.116604</td>\n",
       "      <td>-0.123295</td>\n",
       "    </tr>\n",
       "    <tr>\n",
       "      <th>14999</th>\n",
       "      <td>0.732933</td>\n",
       "      <td>0.713900</td>\n",
       "    </tr>\n",
       "  </tbody>\n",
       "</table>\n",
       "<p>15000 rows × 2 columns</p>\n",
       "</div>"
      ],
      "text/plain": [
       "         y_pred    y_true\n",
       "0     -0.256112 -0.291865\n",
       "1     -0.371732 -0.360006\n",
       "2     -0.507214 -0.471882\n",
       "3      0.612864  0.612741\n",
       "4     -0.293090 -0.306039\n",
       "...         ...       ...\n",
       "14995 -0.294293 -0.288643\n",
       "14996 -0.669942 -0.669617\n",
       "14997  0.299834  0.320755\n",
       "14998 -0.116604 -0.123295\n",
       "14999  0.732933  0.713900\n",
       "\n",
       "[15000 rows x 2 columns]"
      ]
     },
     "execution_count": 120,
     "metadata": {},
     "output_type": "execute_result"
    }
   ],
   "source": [
    "y_pred = predictions.tolist()\n",
    "y_true = ground_truth.tolist()\n",
    "df = pd.DataFrame(list(zip(y_pred, y_true)),\n",
    "               columns =['y_pred', 'y_true'])\n",
    "df"
   ]
  },
  {
   "cell_type": "code",
   "execution_count": 127,
   "id": "252e7e92-2405-4be8-8a02-b8f36a42501d",
   "metadata": {
    "tags": []
   },
   "outputs": [
    {
     "data": {
      "image/png": "[encoded data removed]",
      "text/plain": [
       "<Figure size 500x500 with 1 Axes>"
      ]
     },
     "metadata": {},
     "output_type": "display_data"
    }
   ],
   "source": [
    "ax1 = df.plot.scatter(x='y_true',y='y_pred', grid=True, figsize=(5, 5), title=\"Testing Set Correlation\")\n"
   ]
  },
  {
   "cell_type": "code",
   "execution_count": null,
   "id": "df393361-d3c5-4b99-97bb-0e17b523b8ce",
   "metadata": {},
   "outputs": [],
   "source": []
  }
 ],
 "metadata": {
  "kernelspec": {
   "display_name": "Python 3 (ipykernel)",
   "language": "python",
   "name": "python3"
  },
  "language_info": {
   "codemirror_mode": {
    "name": "ipython",
    "version": 3
   },
   "file_extension": ".py",
   "mimetype": "text/x-python",
   "name": "python",
   "nbconvert_exporter": "python",
   "pygments_lexer": "ipython3",
   "version": "3.8.10"
  }
 },
 "nbformat": 4,
 "nbformat_minor": 5
}
